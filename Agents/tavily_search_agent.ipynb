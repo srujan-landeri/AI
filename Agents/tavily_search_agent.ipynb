{
 "cells": [
  {
   "cell_type": "code",
   "execution_count": 4,
   "metadata": {},
   "outputs": [
    {
     "data": {
      "text/plain": [
       "True"
      ]
     },
     "execution_count": 4,
     "metadata": {},
     "output_type": "execute_result"
    }
   ],
   "source": [
    "from langchain_core.messages import HumanMessage, SystemMessage\n",
    "from langchain_community.tools.tavily_search import TavilySearchResults\n",
    "from langchain_groq import ChatGroq\n",
    "\n",
    "from dotenv import load_dotenv\n",
    "load_dotenv()"
   ]
  },
  {
   "cell_type": "code",
   "execution_count": 15,
   "metadata": {},
   "outputs": [],
   "source": [
    "tools = [TavilySearchResults(max_results=2)]\n",
    "model = ChatGroq(model=\"llama-3.1-70b-versatile\").bind_tools(tools=tools)"
   ]
  },
  {
   "cell_type": "code",
   "execution_count": 19,
   "metadata": {},
   "outputs": [
    {
     "name": "stdout",
     "output_type": "stream",
     "text": [
      "AI: I'm just a language model, I don't have feelings or emotions, but I'm functioning properly and ready to assist you. What can I help you with today?\n",
      "Tool Calls: []\n"
     ]
    }
   ],
   "source": [
    "response = model.invoke([HumanMessage(content=\"Hello, How are you?\")])\n",
    "print(\"AI:\", response.content)\n",
    "print(\"Tool Calls:\", response.tool_calls)"
   ]
  },
  {
   "cell_type": "code",
   "execution_count": 20,
   "metadata": {},
   "outputs": [
    {
     "name": "stdout",
     "output_type": "stream",
     "text": [
      "AI: \n",
      "Tool Calls: [{'name': 'tavily_search_results_json', 'args': {'query': 'Hyderabad weather'}, 'id': 'call_mnw2', 'type': 'tool_call'}]\n"
     ]
    }
   ],
   "source": [
    "response = model.invoke([HumanMessage(content=\"What is the weather in hyderabad?\")])\n",
    "print(\"AI:\", response.content)\n",
    "print(\"Tool Calls:\", response.tool_calls)"
   ]
  },
  {
   "cell_type": "code",
   "execution_count": 23,
   "metadata": {},
   "outputs": [
    {
     "data": {
      "text/plain": [
       "{'messages': [HumanMessage(content='Hello, How are you?', additional_kwargs={}, response_metadata={}, id='256fc954-54e9-4624-83b4-8251010e8e3f'),\n",
       "  AIMessage(content=\"I'm here to help with your questions. What can I assist you with today?\", additional_kwargs={}, response_metadata={'token_usage': {'completion_tokens': 18, 'prompt_tokens': 284, 'total_tokens': 302, 'completion_time': 0.072, 'prompt_time': 0.068074413, 'queue_time': 0.005241757, 'total_time': 0.140074413}, 'model_name': 'llama-3.1-70b-versatile', 'system_fingerprint': 'fp_b3ae7e594e', 'finish_reason': 'stop', 'logprobs': None}, id='run-033ecefb-a3b0-4795-80f3-b7920bc5fbd7-0', usage_metadata={'input_tokens': 284, 'output_tokens': 18, 'total_tokens': 302})]}"
      ]
     },
     "execution_count": 23,
     "metadata": {},
     "output_type": "execute_result"
    }
   ],
   "source": [
    "# building the react agent\n",
    "from langgraph.prebuilt import create_react_agent\n",
    "\n",
    "react_agent = create_react_agent(model=model, tools=tools)\n",
    "react_agent.invoke({\"messages\": [HumanMessage(content=\"Hello, How are you?\")]})"
   ]
  },
  {
   "cell_type": "code",
   "execution_count": 24,
   "metadata": {},
   "outputs": [
    {
     "data": {
      "text/plain": [
       "[HumanMessage(content='What is the weather in hyderabad?', additional_kwargs={}, response_metadata={}, id='b2589ce1-a2ca-466d-9a5b-e7de73afda1a'),\n",
       " AIMessage(content='', additional_kwargs={'tool_calls': [{'id': 'call_zxt4', 'function': {'arguments': '{\"query\": \"Hyderabad weather\"}', 'name': 'tavily_search_results_json'}, 'type': 'function'}]}, response_metadata={'token_usage': {'completion_tokens': 20, 'prompt_tokens': 286, 'total_tokens': 306, 'completion_time': 0.08, 'prompt_time': 0.095687015, 'queue_time': 0.005336627999999996, 'total_time': 0.175687015}, 'model_name': 'llama-3.1-70b-versatile', 'system_fingerprint': 'fp_b3ae7e594e', 'finish_reason': 'tool_calls', 'logprobs': None}, id='run-472a0fcb-ca67-4f80-9050-f9cde1c2ca49-0', tool_calls=[{'name': 'tavily_search_results_json', 'args': {'query': 'Hyderabad weather'}, 'id': 'call_zxt4', 'type': 'tool_call'}], usage_metadata={'input_tokens': 286, 'output_tokens': 20, 'total_tokens': 306}),\n",
       " ToolMessage(content='[{\"url\": \"https://www.accuweather.com/en/in/hyderabad/202190/weather-forecast/202190\", \"content\": \"Get the current weather conditions and the outlook for the next 10 days in Hyderabad, Telangana, India. Expect cloudy and humid days with occasional thunderstorms and showers.\"}, {\"url\": \"https://www.timeanddate.com/weather/india/hyderabad/ext\", \"content\": \"Get the weather outlook for Hyderabad, Telangana, India for the next two weeks. See daily high and low temperatures, precipitation chance, wind speed, humidity, UV index, sunrise and sunset times.\"}]', name='tavily_search_results_json', id='4a7c899d-3f9f-441f-807c-38f638e2649f', tool_call_id='call_zxt4', artifact={'query': 'Hyderabad weather', 'follow_up_questions': None, 'answer': None, 'images': [], 'results': [{'title': 'Hyderabad, Telangana, India Weather Forecast | AccuWeather', 'url': 'https://www.accuweather.com/en/in/hyderabad/202190/weather-forecast/202190', 'content': 'Get the current weather conditions and the outlook for the next 10 days in Hyderabad, Telangana, India. Expect cloudy and humid days with occasional thunderstorms and showers.', 'score': 0.99801993, 'raw_content': None}, {'title': 'Hyderabad, Telangana, India 14 day weather forecast - timeanddate.com', 'url': 'https://www.timeanddate.com/weather/india/hyderabad/ext', 'content': 'Get the weather outlook for Hyderabad, Telangana, India for the next two weeks. See daily high and low temperatures, precipitation chance, wind speed, humidity, UV index, sunrise and sunset times.', 'score': 0.9923934, 'raw_content': None}], 'response_time': 7.64}),\n",
       " AIMessage(content='The current weather in Hyderabad is cloudy and humid with occasional thunderstorms and showers.', additional_kwargs={}, response_metadata={'token_usage': {'completion_tokens': 17, 'prompt_tokens': 449, 'total_tokens': 466, 'completion_time': 0.068, 'prompt_time': 0.078228735, 'queue_time': 0.003713544000000013, 'total_time': 0.146228735}, 'model_name': 'llama-3.1-70b-versatile', 'system_fingerprint': 'fp_9260b4bb2e', 'finish_reason': 'stop', 'logprobs': None}, id='run-dee8b5f1-6885-48e3-a3e1-e85945f46509-0', usage_metadata={'input_tokens': 449, 'output_tokens': 17, 'total_tokens': 466})]"
      ]
     },
     "execution_count": 24,
     "metadata": {},
     "output_type": "execute_result"
    }
   ],
   "source": [
    "response = react_agent.invoke({\n",
    "    \"messages\": [\n",
    "        HumanMessage(content=\"What is the weather in hyderabad?\"),\n",
    "    ]\n",
    "})\n",
    "\n",
    "response[\"messages\"]    # outputs final response of the agent"
   ]
  },
  {
   "cell_type": "code",
   "execution_count": 26,
   "metadata": {},
   "outputs": [
    {
     "name": "stdout",
     "output_type": "stream",
     "text": [
      "{'agent': {'messages': [AIMessage(content='', additional_kwargs={'tool_calls': [{'id': 'call_b1qz', 'function': {'arguments': '{\"query\": \"Hyderabad weather\"}', 'name': 'tavily_search_results_json'}, 'type': 'function'}]}, response_metadata={'token_usage': {'completion_tokens': 20, 'prompt_tokens': 285, 'total_tokens': 305, 'completion_time': 0.080269232, 'prompt_time': 0.073066749, 'queue_time': 0.005620168999999994, 'total_time': 0.153335981}, 'model_name': 'llama-3.1-70b-versatile', 'system_fingerprint': 'fp_b3ae7e594e', 'finish_reason': 'tool_calls', 'logprobs': None}, id='run-077f64d9-4147-444c-9328-3aab7645e918-0', tool_calls=[{'name': 'tavily_search_results_json', 'args': {'query': 'Hyderabad weather'}, 'id': 'call_b1qz', 'type': 'tool_call'}], usage_metadata={'input_tokens': 285, 'output_tokens': 20, 'total_tokens': 305})]}}\n",
      "----\n",
      "{'tools': {'messages': [ToolMessage(content='[{\"url\": \"https://www.weatherapi.com/\", \"content\": \"{\\'location\\': {\\'name\\': \\'Hyderabad\\', \\'region\\': \\'Andhra Pradesh\\', \\'country\\': \\'India\\', \\'lat\\': 17.3753, \\'lon\\': 78.4744, \\'tz_id\\': \\'Asia/Kolkata\\', \\'localtime_epoch\\': 1730309287, \\'localtime\\': \\'2024-10-30 22:58\\'}, \\'current\\': {\\'last_updated_epoch\\': 1730308500, \\'last_updated\\': \\'2024-10-30 22:45\\', \\'temp_c\\': 25.2, \\'temp_f\\': 77.4, \\'is_day\\': 0, \\'condition\\': {\\'text\\': \\'Mist\\', \\'icon\\': \\'//cdn.weatherapi.com/weather/64x64/night/143.png\\', \\'code\\': 1030}, \\'wind_mph\\': 3.4, \\'wind_kph\\': 5.4, \\'wind_degree\\': 26, \\'wind_dir\\': \\'NNE\\', \\'pressure_mb\\': 1016.0, \\'pressure_in\\': 30.0, \\'precip_mm\\': 0.0, \\'precip_in\\': 0.0, \\'humidity\\': 83, \\'cloud\\': 75, \\'feelslike_c\\': 26.7, \\'feelslike_f\\': 80.1, \\'windchill_c\\': 25.4, \\'windchill_f\\': 77.8, \\'heatindex_c\\': 27.0, \\'heatindex_f\\': 80.5, \\'dewpoint_c\\': 19.0, \\'dewpoint_f\\': 66.1, \\'vis_km\\': 4.0, \\'vis_miles\\': 2.0, \\'uv\\': 0.0, \\'gust_mph\\': 5.9, \\'gust_kph\\': 9.5}}\"}, {\"url\": \"https://www.hindustantimes.com/cities/hyderabad-weather-today-aqi-and-rain-forecast-updates-october-30-2024-101730251811752.html\", \"content\": \"The temperature in Hyderabad today, on October 30, 2024, is 28.18 °C. The day\\'s forecast indicates a minimum and maximum temperature of 22.73 °C and 31.18 °C, respectively. The relative\"}]', name='tavily_search_results_json', id='2b8bf7a0-509c-4318-9976-164b09502f03', tool_call_id='call_b1qz', artifact={'query': 'Hyderabad weather', 'follow_up_questions': None, 'answer': None, 'images': [], 'results': [{'title': 'Weather in Hyderabad', 'url': 'https://www.weatherapi.com/', 'content': \"{'location': {'name': 'Hyderabad', 'region': 'Andhra Pradesh', 'country': 'India', 'lat': 17.3753, 'lon': 78.4744, 'tz_id': 'Asia/Kolkata', 'localtime_epoch': 1730309287, 'localtime': '2024-10-30 22:58'}, 'current': {'last_updated_epoch': 1730308500, 'last_updated': '2024-10-30 22:45', 'temp_c': 25.2, 'temp_f': 77.4, 'is_day': 0, 'condition': {'text': 'Mist', 'icon': '//cdn.weatherapi.com/weather/64x64/night/143.png', 'code': 1030}, 'wind_mph': 3.4, 'wind_kph': 5.4, 'wind_degree': 26, 'wind_dir': 'NNE', 'pressure_mb': 1016.0, 'pressure_in': 30.0, 'precip_mm': 0.0, 'precip_in': 0.0, 'humidity': 83, 'cloud': 75, 'feelslike_c': 26.7, 'feelslike_f': 80.1, 'windchill_c': 25.4, 'windchill_f': 77.8, 'heatindex_c': 27.0, 'heatindex_f': 80.5, 'dewpoint_c': 19.0, 'dewpoint_f': 66.1, 'vis_km': 4.0, 'vis_miles': 2.0, 'uv': 0.0, 'gust_mph': 5.9, 'gust_kph': 9.5}}\", 'score': 0.9998947, 'raw_content': None}, {'title': 'Hyderabad Weather and AQI Today: Warm start at 22.73 °C, check weather ...', 'url': 'https://www.hindustantimes.com/cities/hyderabad-weather-today-aqi-and-rain-forecast-updates-october-30-2024-101730251811752.html', 'content': \"The temperature in Hyderabad today, on October 30, 2024, is 28.18 °C. The day's forecast indicates a minimum and maximum temperature of 22.73 °C and 31.18 °C, respectively. The relative\", 'score': 0.9989556, 'raw_content': None}], 'response_time': 3.03})]}}\n",
      "----\n",
      "{'agent': {'messages': [AIMessage(content='The current weather in Hyderabad is mist with a temperature of 25.2°C and a humidity of 83%. The wind is blowing at 3.4 mph from the north-northeast direction.', additional_kwargs={}, response_metadata={'token_usage': {'completion_tokens': 42, 'prompt_tokens': 827, 'total_tokens': 869, 'completion_time': 0.168, 'prompt_time': 0.149501627, 'queue_time': 0.003787980999999996, 'total_time': 0.317501627}, 'model_name': 'llama-3.1-70b-versatile', 'system_fingerprint': 'fp_5c5d1b5cfb', 'finish_reason': 'stop', 'logprobs': None}, id='run-62696f7c-76d3-47da-a373-65b3babcf1e9-0', usage_metadata={'input_tokens': 827, 'output_tokens': 42, 'total_tokens': 869})]}}\n",
      "----\n"
     ]
    }
   ],
   "source": [
    "# gives a stream of responses with immediate responses\n",
    "for chunk in react_agent.stream(\n",
    "    {\"messages\": [HumanMessage(content=\"whats the weather in Hyderabad?\")]}\n",
    "):\n",
    "    print(chunk)\n",
    "    print(\"----\")"
   ]
  }
 ],
 "metadata": {
  "kernelspec": {
   "display_name": "Python 3",
   "language": "python",
   "name": "python3"
  },
  "language_info": {
   "codemirror_mode": {
    "name": "ipython",
    "version": 3
   },
   "file_extension": ".py",
   "mimetype": "text/x-python",
   "name": "python",
   "nbconvert_exporter": "python",
   "pygments_lexer": "ipython3",
   "version": "3.12.4"
  }
 },
 "nbformat": 4,
 "nbformat_minor": 2
}
