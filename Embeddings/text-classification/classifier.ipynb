{
 "cells": [
  {
   "cell_type": "code",
   "execution_count": 36,
   "metadata": {},
   "outputs": [],
   "source": [
    "import pandas as pd\n",
    "import numpy as np\n",
    "import matplotlib.pyplot as plt\n",
    "\n",
    "from sklearn.ensemble import RandomForestClassifier\n",
    "from sklearn.metrics import roc_auc_score"
   ]
  },
  {
   "cell_type": "code",
   "execution_count": 37,
   "metadata": {},
   "outputs": [],
   "source": [
    "resume_df = pd.read_csv('data/resumes_train.csv')"
   ]
  },
  {
   "cell_type": "code",
   "execution_count": 38,
   "metadata": {},
   "outputs": [],
   "source": [
    "def generate_embeddings(texts):\n",
    "    import os\n",
    "    import dotenv\n",
    "    import requests\n",
    "    dotenv.load_dotenv()\n",
    "    \n",
    "    checkpoint = \"sentence-transformers/all-MiniLM-L6-v2\"\n",
    "    hf_token = os.getenv('HF_TOKEN') \n",
    "\n",
    "    api_url = f\"https://api-inference.huggingface.co/pipeline/feature-extraction/{checkpoint}\"\n",
    "    headers = {\"Authorization\": f\"Bearer {hf_token}\"}\n",
    "    \n",
    "    def query(texts):\n",
    "        response = requests.post(api_url, headers=headers, json={\"inputs\": texts, \"options\":{\"wait_for_model\":True}})\n",
    "        return response.json()\n",
    "    \n",
    "    output = query(texts)\n",
    "    return output"
   ]
  },
  {
   "cell_type": "code",
   "execution_count": 39,
   "metadata": {},
   "outputs": [],
   "source": [
    "def get_embedding_dataset(resume_df):\n",
    "    input_texts = resume_df['resume'].tolist()\n",
    "    text_embeddings = generate_embeddings(input_texts)\n",
    "\n",
    "    column_names = [\"embedding_\" + str(i) for i in range(len(text_embeddings[0]))]\n",
    "    df_train = pd.DataFrame(text_embeddings, columns=column_names)\n",
    "    df_train['is_data_scientist'] = resume_df['role'] == 'Data Scientist'\n",
    "\n",
    "    return df_train"
   ]
  },
  {
   "cell_type": "code",
   "execution_count": 41,
   "metadata": {},
   "outputs": [
    {
     "name": "stdout",
     "output_type": "stream",
     "text": [
      "Accuracy and ROC AUC score on the training set\n",
      "--------------------------------------------------\n",
      "1.0\n",
      "1.0\n"
     ]
    }
   ],
   "source": [
    "# training the dataset on the text embeddings\n",
    "train_df = get_embedding_dataset(resume_df)\n",
    "X = train_df.drop(columns=['is_data_scientist'])\n",
    "y = train_df['is_data_scientist']\n",
    "\n",
    "clf = RandomForestClassifier(n_estimators=100, random_state=42).fit(X, y)\n",
    "\n",
    "print(\"Accuracy and ROC AUC score on the training set\")\n",
    "print(\"-\" * 50)\n",
    "print(clf.score(X, y))\n",
    "print(roc_auc_score(y, clf.predict_proba(X)[:, 1]))"
   ]
  },
  {
   "cell_type": "code",
   "execution_count": 42,
   "metadata": {},
   "outputs": [
    {
     "name": "stdout",
     "output_type": "stream",
     "text": [
      "Accuracy and ROC AUC score on the test set\n",
      "--------------------------------------------------\n",
      "0.96\n",
      "0.995\n"
     ]
    }
   ],
   "source": [
    "# preparing the test dataset\n",
    "test_df = pd.read_csv('data/resumes_test.csv')\n",
    "test_df = get_embedding_dataset(test_df)\n",
    "X_test = test_df.drop(columns=['is_data_scientist'])\n",
    "y_test = test_df['is_data_scientist']\n",
    "\n",
    "print(\"Accuracy and ROC AUC score on the test set\")\n",
    "print(\"-\" * 50)\n",
    "print(clf.score(X_test, y_test))\n",
    "print(roc_auc_score(y_test, clf.predict_proba(X_test)[:, 1]))"
   ]
  },
  {
   "cell_type": "markdown",
   "metadata": {},
   "source": [
    "The dataset used was a __synthetic__ dataset. Hence model might be overfitting to the dataset. The model might not perform well on real world data. Additionally the size of the dataset is very small __(100 records)__. Hence the model might not be able to generalize well."
   ]
  }
 ],
 "metadata": {
  "kernelspec": {
   "display_name": "Python 3",
   "language": "python",
   "name": "python3"
  },
  "language_info": {
   "codemirror_mode": {
    "name": "ipython",
    "version": 3
   },
   "file_extension": ".py",
   "mimetype": "text/x-python",
   "name": "python",
   "nbconvert_exporter": "python",
   "pygments_lexer": "ipython3",
   "version": "3.12.4"
  }
 },
 "nbformat": 4,
 "nbformat_minor": 2
}
