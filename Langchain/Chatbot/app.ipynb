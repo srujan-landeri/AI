{
 "cells": [
  {
   "cell_type": "code",
   "execution_count": 2,
   "metadata": {},
   "outputs": [],
   "source": [
    "from langchain_core.messages import SystemMessage, HumanMessage\n",
    "from langchain_groq import ChatGroq\n",
    "\n",
    "model = ChatGroq()"
   ]
  },
  {
   "cell_type": "code",
   "execution_count": 7,
   "metadata": {},
   "outputs": [
    {
     "data": {
      "text/plain": [
       "AIMessage(content=\"Hello Bob! It's nice to meet you. Is there something I can help you with today? If you have any questions about a specific topic, feel free to ask and I'll do my best to provide a helpful and accurate response.\", additional_kwargs={}, response_metadata={'token_usage': {'completion_tokens': 51, 'prompt_tokens': 15, 'total_tokens': 66, 'completion_time': 0.081047355, 'prompt_time': 0.002207294, 'queue_time': 0.011279164, 'total_time': 0.083254649}, 'model_name': 'mixtral-8x7b-32768', 'system_fingerprint': 'fp_c5f20b5bb1', 'finish_reason': 'stop', 'logprobs': None}, id='run-99acb1b0-5b63-4b99-b791-46487ae1fab9-0', usage_metadata={'input_tokens': 15, 'output_tokens': 51, 'total_tokens': 66})"
      ]
     },
     "execution_count": 7,
     "metadata": {},
     "output_type": "execute_result"
    }
   ],
   "source": [
    "model.invoke([HumanMessage(content=\"Hello, I am a bob.\")])"
   ]
  },
  {
   "cell_type": "code",
   "execution_count": 8,
   "metadata": {},
   "outputs": [
    {
     "data": {
      "text/plain": [
       "AIMessage(content=\"I don't have the ability to know your name unless you tell me. I can only provide information and answer questions based on the data I have been programmed with.\", additional_kwargs={}, response_metadata={'token_usage': {'completion_tokens': 36, 'prompt_tokens': 13, 'total_tokens': 49, 'completion_time': 0.056667344, 'prompt_time': 0.002082386, 'queue_time': 0.010700283, 'total_time': 0.05874973}, 'model_name': 'mixtral-8x7b-32768', 'system_fingerprint': 'fp_c5f20b5bb1', 'finish_reason': 'stop', 'logprobs': None}, id='run-873015ec-1f2f-42df-a412-f7acf555b80f-0', usage_metadata={'input_tokens': 13, 'output_tokens': 36, 'total_tokens': 49})"
      ]
     },
     "execution_count": 8,
     "metadata": {},
     "output_type": "execute_result"
    }
   ],
   "source": [
    "model.invoke([HumanMessage(content=\"What is my name?\")]) # Doesn't remember the context"
   ]
  },
  {
   "cell_type": "code",
   "execution_count": 9,
   "metadata": {},
   "outputs": [
    {
     "data": {
      "text/plain": [
       "AIMessage(content=\"Hello Bob! It's nice to meet you. I believe you mentioned that your name is Bob. Is there something I can help you with today? If you have any questions about a specific topic, feel free to ask and I'll do my best to provide a helpful and accurate response.\", additional_kwargs={}, response_metadata={'token_usage': {'completion_tokens': 61, 'prompt_tokens': 76, 'total_tokens': 137, 'completion_time': 0.097117606, 'prompt_time': 0.004950186, 'queue_time': 0.009279113000000002, 'total_time': 0.102067792}, 'model_name': 'mixtral-8x7b-32768', 'system_fingerprint': 'fp_c5f20b5bb1', 'finish_reason': 'stop', 'logprobs': None}, id='run-e46050bd-69b1-4aff-981b-5d3fe109026e-0', usage_metadata={'input_tokens': 76, 'output_tokens': 61, 'total_tokens': 137})"
      ]
     },
     "execution_count": 9,
     "metadata": {},
     "output_type": "execute_result"
    }
   ],
   "source": [
    "model.invoke([\n",
    "    HumanMessage(content=\"My name is Bob.\"),\n",
    "    SystemMessage(content=\"Hello Bob! It's nice to meet you. Is there something I can help you with today? If you have any questions about a specific topic, feel free to ask and I'll do my best to provide a helpful and accurate response.\"),\n",
    "    HumanMessage(content=\"What is my name?\")\n",
    "])\n",
    "\n",
    "# it now remembers the context"
   ]
  }
 ],
 "metadata": {
  "kernelspec": {
   "display_name": "Python 3",
   "language": "python",
   "name": "python3"
  },
  "language_info": {
   "codemirror_mode": {
    "name": "ipython",
    "version": 3
   },
   "file_extension": ".py",
   "mimetype": "text/x-python",
   "name": "python",
   "nbconvert_exporter": "python",
   "pygments_lexer": "ipython3",
   "version": "3.12.4"
  }
 },
 "nbformat": 4,
 "nbformat_minor": 2
}
