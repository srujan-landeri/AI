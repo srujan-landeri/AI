{
 "cells": [
  {
   "cell_type": "code",
   "execution_count": 1,
   "metadata": {},
   "outputs": [
    {
     "name": "stdout",
     "output_type": "stream",
     "text": [
      "\"Ciao, come stai?\"\n"
     ]
    }
   ],
   "source": [
    "from langchain_core.messages import SystemMessage, HumanMessage\n",
    "from langchain_groq import ChatGroq\n",
    "from langchain_core.output_parsers import StrOutputParser\n",
    "\n",
    "model = ChatGroq(model=\"llama3-8b-8192\")\n",
    "\n",
    "# the inputs are hardcoded here\n",
    "messages = [\n",
    "    SystemMessage(\"Translate the following sentence to Italian\"),\n",
    "    HumanMessage(\"Hello, how are you?\"),\n",
    "]\n",
    "\n",
    "parser = StrOutputParser()\n",
    "chain = model | parser\n",
    "reponse = chain.invoke(messages)\n",
    "\n",
    "print(reponse)"
   ]
  },
  {
   "cell_type": "code",
   "execution_count": 12,
   "metadata": {},
   "outputs": [
    {
     "data": {
      "text/plain": [
       "'Ciao, come stai?'"
      ]
     },
     "execution_count": 12,
     "metadata": {},
     "output_type": "execute_result"
    }
   ],
   "source": [
    "# creating prompt that accepts dynamic inputs\n",
    "from langchain_core.prompts import ChatPromptTemplate\n",
    "\n",
    "# placeholder for the input language\n",
    "system_template = \"Translate the following sentence to {language}\"\n",
    "\n",
    "# placeholder for the input sentence\n",
    "human_template = \"{sentence}\"\n",
    "\n",
    "# creating the prompt template\n",
    "chat_prompt = ChatPromptTemplate.from_messages(\n",
    "    [\n",
    "        (\"system\", system_template),\n",
    "        (\"user\", human_template),\n",
    "    ]\n",
    ")\n",
    "\n",
    "# creating the prompt\n",
    "result = chat_prompt.invoke({\"language\": \"Italian\", \"sentence\": \"Hello, how are you?\"})\n",
    "\n",
    "# creating the chain\n",
    "chain = chat_prompt | model | parser # can be understood as chat_prompt -> model -> parser, where | is kind of a pipe operator in linux\n",
    "\n",
    "\n",
    "chain.invoke({\"language\": \"Italian\", \"sentence\": \"Hello, how are you?\"})"
   ]
  }
 ],
 "metadata": {
  "kernelspec": {
   "display_name": "Python 3",
   "language": "python",
   "name": "python3"
  },
  "language_info": {
   "codemirror_mode": {
    "name": "ipython",
    "version": 3
   },
   "file_extension": ".py",
   "mimetype": "text/x-python",
   "name": "python",
   "nbconvert_exporter": "python",
   "pygments_lexer": "ipython3",
   "version": "3.12.4"
  }
 },
 "nbformat": 4,
 "nbformat_minor": 2
}
